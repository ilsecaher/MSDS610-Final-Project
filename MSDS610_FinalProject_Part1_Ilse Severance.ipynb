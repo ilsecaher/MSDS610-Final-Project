{
 "cells": [
  {
   "cell_type": "markdown",
   "metadata": {},
   "source": [
    "## Part 1 - Scenario 1 – Chicago Airbnb"
   ]
  },
  {
   "cell_type": "markdown",
   "metadata": {},
   "source": [
    "You and a group of friends are considering purchasing a property in Chicago that you can use as an investment. You have heard from other people that they have made a lot of money by renting out either a room or an entire unit (apartment or house). Your friends ask you to analyze data so that they can understand how much you would charge per night based on the type of dwelling you were to purchase."
   ]
  },
  {
   "cell_type": "code",
   "execution_count": 1,
   "metadata": {},
   "outputs": [],
   "source": [
    "#Loading packages\n",
    "import seaborn as sns\n",
    "import pandas as pd\n",
    "import numpy as np\n",
    "import string\n",
    "import sqlite3\n",
    "from sqlalchemy import create_engine\n",
    "\n",
    "import warnings\n",
    "warnings.filterwarnings('ignore')"
   ]
  },
  {
   "cell_type": "markdown",
   "metadata": {},
   "source": [
    "We will start by importing the data from csv"
   ]
  },
  {
   "cell_type": "code",
   "execution_count": 2,
   "metadata": {},
   "outputs": [
    {
     "data": {
      "text/html": [
       "<div>\n",
       "<style scoped>\n",
       "    .dataframe tbody tr th:only-of-type {\n",
       "        vertical-align: middle;\n",
       "    }\n",
       "\n",
       "    .dataframe tbody tr th {\n",
       "        vertical-align: top;\n",
       "    }\n",
       "\n",
       "    .dataframe thead th {\n",
       "        text-align: right;\n",
       "    }\n",
       "</style>\n",
       "<table border=\"1\" class=\"dataframe\">\n",
       "  <thead>\n",
       "    <tr style=\"text-align: right;\">\n",
       "      <th></th>\n",
       "      <th>id</th>\n",
       "      <th>name</th>\n",
       "      <th>host_id</th>\n",
       "      <th>host_name</th>\n",
       "      <th>neighbourhood_group</th>\n",
       "      <th>neighbourhood</th>\n",
       "      <th>latitude</th>\n",
       "      <th>longitude</th>\n",
       "      <th>room_type</th>\n",
       "      <th>price</th>\n",
       "      <th>minimum_nights</th>\n",
       "      <th>number_of_reviews</th>\n",
       "      <th>last_review</th>\n",
       "      <th>reviews_per_month</th>\n",
       "      <th>calculated_host_listings_count</th>\n",
       "      <th>availability_365</th>\n",
       "    </tr>\n",
       "  </thead>\n",
       "  <tbody>\n",
       "    <tr>\n",
       "      <th>0</th>\n",
       "      <td>2384</td>\n",
       "      <td>Hyde Park - Walk to UChicago, 10 min to McCormick</td>\n",
       "      <td>2613</td>\n",
       "      <td>Rebecca</td>\n",
       "      <td>NaN</td>\n",
       "      <td>Hyde Park</td>\n",
       "      <td>41.78790</td>\n",
       "      <td>-87.58780</td>\n",
       "      <td>Private room</td>\n",
       "      <td>60</td>\n",
       "      <td>2</td>\n",
       "      <td>178</td>\n",
       "      <td>2019-12-15</td>\n",
       "      <td>2.56</td>\n",
       "      <td>1</td>\n",
       "      <td>353</td>\n",
       "    </tr>\n",
       "    <tr>\n",
       "      <th>1</th>\n",
       "      <td>4505</td>\n",
       "      <td>394 Great Reviews. 127 y/o House. 40 yds to tr...</td>\n",
       "      <td>5775</td>\n",
       "      <td>Craig &amp; Kathleen</td>\n",
       "      <td>NaN</td>\n",
       "      <td>South Lawndale</td>\n",
       "      <td>41.85495</td>\n",
       "      <td>-87.69696</td>\n",
       "      <td>Entire home/apt</td>\n",
       "      <td>105</td>\n",
       "      <td>2</td>\n",
       "      <td>395</td>\n",
       "      <td>2020-07-14</td>\n",
       "      <td>2.81</td>\n",
       "      <td>1</td>\n",
       "      <td>155</td>\n",
       "    </tr>\n",
       "    <tr>\n",
       "      <th>2</th>\n",
       "      <td>7126</td>\n",
       "      <td>Tiny Studio Apartment 94 Walk Score</td>\n",
       "      <td>17928</td>\n",
       "      <td>Sarah</td>\n",
       "      <td>NaN</td>\n",
       "      <td>West Town</td>\n",
       "      <td>41.90289</td>\n",
       "      <td>-87.68182</td>\n",
       "      <td>Entire home/apt</td>\n",
       "      <td>60</td>\n",
       "      <td>2</td>\n",
       "      <td>384</td>\n",
       "      <td>2020-03-08</td>\n",
       "      <td>2.81</td>\n",
       "      <td>1</td>\n",
       "      <td>321</td>\n",
       "    </tr>\n",
       "    <tr>\n",
       "      <th>3</th>\n",
       "      <td>9811</td>\n",
       "      <td>Barbara's Hideaway - Old Town</td>\n",
       "      <td>33004</td>\n",
       "      <td>At Home Inn</td>\n",
       "      <td>NaN</td>\n",
       "      <td>Lincoln Park</td>\n",
       "      <td>41.91769</td>\n",
       "      <td>-87.63788</td>\n",
       "      <td>Entire home/apt</td>\n",
       "      <td>65</td>\n",
       "      <td>4</td>\n",
       "      <td>49</td>\n",
       "      <td>2019-10-23</td>\n",
       "      <td>0.63</td>\n",
       "      <td>9</td>\n",
       "      <td>300</td>\n",
       "    </tr>\n",
       "    <tr>\n",
       "      <th>4</th>\n",
       "      <td>10610</td>\n",
       "      <td>3 Comforts of Cooperative Living</td>\n",
       "      <td>2140</td>\n",
       "      <td>Lois</td>\n",
       "      <td>NaN</td>\n",
       "      <td>Hyde Park</td>\n",
       "      <td>41.79612</td>\n",
       "      <td>-87.59261</td>\n",
       "      <td>Private room</td>\n",
       "      <td>21</td>\n",
       "      <td>1</td>\n",
       "      <td>44</td>\n",
       "      <td>2020-02-14</td>\n",
       "      <td>0.61</td>\n",
       "      <td>5</td>\n",
       "      <td>168</td>\n",
       "    </tr>\n",
       "  </tbody>\n",
       "</table>\n",
       "</div>"
      ],
      "text/plain": [
       "      id                                               name  host_id  \\\n",
       "0   2384  Hyde Park - Walk to UChicago, 10 min to McCormick     2613   \n",
       "1   4505  394 Great Reviews. 127 y/o House. 40 yds to tr...     5775   \n",
       "2   7126                Tiny Studio Apartment 94 Walk Score    17928   \n",
       "3   9811                      Barbara's Hideaway - Old Town    33004   \n",
       "4  10610                   3 Comforts of Cooperative Living     2140   \n",
       "\n",
       "          host_name  neighbourhood_group   neighbourhood  latitude  longitude  \\\n",
       "0           Rebecca                  NaN       Hyde Park  41.78790  -87.58780   \n",
       "1  Craig & Kathleen                  NaN  South Lawndale  41.85495  -87.69696   \n",
       "2             Sarah                  NaN       West Town  41.90289  -87.68182   \n",
       "3       At Home Inn                  NaN    Lincoln Park  41.91769  -87.63788   \n",
       "4              Lois                  NaN       Hyde Park  41.79612  -87.59261   \n",
       "\n",
       "         room_type  price  minimum_nights  number_of_reviews last_review  \\\n",
       "0     Private room     60               2                178  2019-12-15   \n",
       "1  Entire home/apt    105               2                395  2020-07-14   \n",
       "2  Entire home/apt     60               2                384  2020-03-08   \n",
       "3  Entire home/apt     65               4                 49  2019-10-23   \n",
       "4     Private room     21               1                 44  2020-02-14   \n",
       "\n",
       "   reviews_per_month  calculated_host_listings_count  availability_365  \n",
       "0               2.56                               1               353  \n",
       "1               2.81                               1               155  \n",
       "2               2.81                               1               321  \n",
       "3               0.63                               9               300  \n",
       "4               0.61                               5               168  "
      ]
     },
     "execution_count": 2,
     "metadata": {},
     "output_type": "execute_result"
    }
   ],
   "source": [
    "#Importing dataset from csv\n",
    "df = pd.read_csv('listings.csv')\n",
    "df.head()"
   ]
  },
  {
   "cell_type": "markdown",
   "metadata": {},
   "source": [
    "We will look at the data shape to ensure the row number before extracting 100 rows from the dataset."
   ]
  },
  {
   "cell_type": "code",
   "execution_count": 3,
   "metadata": {},
   "outputs": [
    {
     "data": {
      "text/plain": [
       "(6397, 16)"
      ]
     },
     "execution_count": 3,
     "metadata": {},
     "output_type": "execute_result"
    }
   ],
   "source": [
    "#Looking at the data shape\n",
    "df.shape"
   ]
  },
  {
   "cell_type": "markdown",
   "metadata": {},
   "source": [
    "We will create a new dataset from 100 rows of our listings dataset."
   ]
  },
  {
   "cell_type": "code",
   "execution_count": 4,
   "metadata": {},
   "outputs": [
    {
     "data": {
      "text/html": [
       "<div>\n",
       "<style scoped>\n",
       "    .dataframe tbody tr th:only-of-type {\n",
       "        vertical-align: middle;\n",
       "    }\n",
       "\n",
       "    .dataframe tbody tr th {\n",
       "        vertical-align: top;\n",
       "    }\n",
       "\n",
       "    .dataframe thead th {\n",
       "        text-align: right;\n",
       "    }\n",
       "</style>\n",
       "<table border=\"1\" class=\"dataframe\">\n",
       "  <thead>\n",
       "    <tr style=\"text-align: right;\">\n",
       "      <th></th>\n",
       "      <th>id</th>\n",
       "      <th>name</th>\n",
       "      <th>host_id</th>\n",
       "      <th>host_name</th>\n",
       "      <th>neighbourhood_group</th>\n",
       "      <th>neighbourhood</th>\n",
       "      <th>latitude</th>\n",
       "      <th>longitude</th>\n",
       "      <th>room_type</th>\n",
       "      <th>price</th>\n",
       "      <th>minimum_nights</th>\n",
       "      <th>number_of_reviews</th>\n",
       "      <th>last_review</th>\n",
       "      <th>reviews_per_month</th>\n",
       "      <th>calculated_host_listings_count</th>\n",
       "      <th>availability_365</th>\n",
       "    </tr>\n",
       "  </thead>\n",
       "  <tbody>\n",
       "    <tr>\n",
       "      <th>3233</th>\n",
       "      <td>30284277</td>\n",
       "      <td>City Flat; Sleeps 6; Steps to Zoo, Near Downtown</td>\n",
       "      <td>142047837</td>\n",
       "      <td>Kate</td>\n",
       "      <td>NaN</td>\n",
       "      <td>Lincoln Park</td>\n",
       "      <td>41.92070</td>\n",
       "      <td>-87.64236</td>\n",
       "      <td>Entire home/apt</td>\n",
       "      <td>154</td>\n",
       "      <td>3</td>\n",
       "      <td>48</td>\n",
       "      <td>2020-03-27</td>\n",
       "      <td>2.40</td>\n",
       "      <td>2</td>\n",
       "      <td>0</td>\n",
       "    </tr>\n",
       "    <tr>\n",
       "      <th>1793</th>\n",
       "      <td>20235190</td>\n",
       "      <td>302 Sweet Sensation room Andersonville Free wifi</td>\n",
       "      <td>127235673</td>\n",
       "      <td>Alex</td>\n",
       "      <td>NaN</td>\n",
       "      <td>Edgewater</td>\n",
       "      <td>41.98532</td>\n",
       "      <td>-87.67212</td>\n",
       "      <td>Private room</td>\n",
       "      <td>36</td>\n",
       "      <td>1</td>\n",
       "      <td>37</td>\n",
       "      <td>2020-07-23</td>\n",
       "      <td>0.97</td>\n",
       "      <td>11</td>\n",
       "      <td>351</td>\n",
       "    </tr>\n",
       "    <tr>\n",
       "      <th>1518</th>\n",
       "      <td>18123049</td>\n",
       "      <td>Fun &amp; Funky Musician Condo (Entire Home)</td>\n",
       "      <td>36370758</td>\n",
       "      <td>Rebecca</td>\n",
       "      <td>NaN</td>\n",
       "      <td>Irving Park</td>\n",
       "      <td>41.96015</td>\n",
       "      <td>-87.71004</td>\n",
       "      <td>Entire home/apt</td>\n",
       "      <td>120</td>\n",
       "      <td>3</td>\n",
       "      <td>16</td>\n",
       "      <td>2019-08-12</td>\n",
       "      <td>0.39</td>\n",
       "      <td>1</td>\n",
       "      <td>0</td>\n",
       "    </tr>\n",
       "    <tr>\n",
       "      <th>2792</th>\n",
       "      <td>27398743</td>\n",
       "      <td>Modern Urban Suite - West Town, Centrally Located</td>\n",
       "      <td>29622436</td>\n",
       "      <td>Dina</td>\n",
       "      <td>NaN</td>\n",
       "      <td>West Town</td>\n",
       "      <td>41.89550</td>\n",
       "      <td>-87.66042</td>\n",
       "      <td>Entire home/apt</td>\n",
       "      <td>79</td>\n",
       "      <td>2</td>\n",
       "      <td>81</td>\n",
       "      <td>2020-08-29</td>\n",
       "      <td>3.11</td>\n",
       "      <td>1</td>\n",
       "      <td>0</td>\n",
       "    </tr>\n",
       "    <tr>\n",
       "      <th>2498</th>\n",
       "      <td>25184769</td>\n",
       "      <td>Sonder | 943 Crosby | Lively 1BR</td>\n",
       "      <td>12243051</td>\n",
       "      <td>Sonder</td>\n",
       "      <td>NaN</td>\n",
       "      <td>Near North Side</td>\n",
       "      <td>41.89917</td>\n",
       "      <td>-87.64299</td>\n",
       "      <td>Entire home/apt</td>\n",
       "      <td>84</td>\n",
       "      <td>30</td>\n",
       "      <td>4</td>\n",
       "      <td>2020-09-05</td>\n",
       "      <td>0.20</td>\n",
       "      <td>47</td>\n",
       "      <td>79</td>\n",
       "    </tr>\n",
       "  </tbody>\n",
       "</table>\n",
       "</div>"
      ],
      "text/plain": [
       "            id                                               name    host_id  \\\n",
       "3233  30284277   City Flat; Sleeps 6; Steps to Zoo, Near Downtown  142047837   \n",
       "1793  20235190   302 Sweet Sensation room Andersonville Free wifi  127235673   \n",
       "1518  18123049           Fun & Funky Musician Condo (Entire Home)   36370758   \n",
       "2792  27398743  Modern Urban Suite - West Town, Centrally Located   29622436   \n",
       "2498  25184769                   Sonder | 943 Crosby | Lively 1BR   12243051   \n",
       "\n",
       "     host_name  neighbourhood_group    neighbourhood  latitude  longitude  \\\n",
       "3233      Kate                  NaN     Lincoln Park  41.92070  -87.64236   \n",
       "1793      Alex                  NaN        Edgewater  41.98532  -87.67212   \n",
       "1518   Rebecca                  NaN      Irving Park  41.96015  -87.71004   \n",
       "2792      Dina                  NaN        West Town  41.89550  -87.66042   \n",
       "2498    Sonder                  NaN  Near North Side  41.89917  -87.64299   \n",
       "\n",
       "            room_type  price  minimum_nights  number_of_reviews last_review  \\\n",
       "3233  Entire home/apt    154               3                 48  2020-03-27   \n",
       "1793     Private room     36               1                 37  2020-07-23   \n",
       "1518  Entire home/apt    120               3                 16  2019-08-12   \n",
       "2792  Entire home/apt     79               2                 81  2020-08-29   \n",
       "2498  Entire home/apt     84              30                  4  2020-09-05   \n",
       "\n",
       "      reviews_per_month  calculated_host_listings_count  availability_365  \n",
       "3233               2.40                               2                 0  \n",
       "1793               0.97                              11               351  \n",
       "1518               0.39                               1                 0  \n",
       "2792               3.11                               1                 0  \n",
       "2498               0.20                              47                79  "
      ]
     },
     "execution_count": 4,
     "metadata": {},
     "output_type": "execute_result"
    }
   ],
   "source": [
    "#Split the data and create one new csv with random 100 rows\n",
    "split100 = df.sample(n=100)\n",
    "split100.head()"
   ]
  },
  {
   "cell_type": "markdown",
   "metadata": {},
   "source": [
    "We will look at the shape of the split100 to ensure there are 100 rows."
   ]
  },
  {
   "cell_type": "code",
   "execution_count": 5,
   "metadata": {},
   "outputs": [
    {
     "data": {
      "text/plain": [
       "(100, 16)"
      ]
     },
     "execution_count": 5,
     "metadata": {},
     "output_type": "execute_result"
    }
   ],
   "source": [
    "#Looking at the shape\n",
    "split100.shape"
   ]
  },
  {
   "cell_type": "markdown",
   "metadata": {},
   "source": [
    "We will save the split100 to a csv"
   ]
  },
  {
   "cell_type": "code",
   "execution_count": 6,
   "metadata": {},
   "outputs": [],
   "source": [
    "#Saving a csv\n",
    "split100.to_csv('split100.csv', index=False)"
   ]
  },
  {
   "cell_type": "markdown",
   "metadata": {},
   "source": [
    "Now, we will remove the 100 from our dataframe and save the data frame in a \"RawData\" schema."
   ]
  },
  {
   "cell_type": "code",
   "execution_count": 7,
   "metadata": {},
   "outputs": [],
   "source": [
    "#Remove the split100 from the original dataset\n",
    "df = df.drop(split100.index)"
   ]
  },
  {
   "cell_type": "code",
   "execution_count": 8,
   "metadata": {},
   "outputs": [
    {
     "data": {
      "text/plain": [
       "(6297, 16)"
      ]
     },
     "execution_count": 8,
     "metadata": {},
     "output_type": "execute_result"
    }
   ],
   "source": [
    "#Ensuring that the 100 rows have been remved\n",
    "df.shape"
   ]
  },
  {
   "cell_type": "markdown",
   "metadata": {},
   "source": [
    "Saving the remaining of our dataframe into SQL"
   ]
  },
  {
   "cell_type": "code",
   "execution_count": 9,
   "metadata": {},
   "outputs": [],
   "source": [
    "#Information from PostgreSQL\n",
    "host = r'localhost' \n",
    "db = r'MSDS610' \n",
    "user = r'postgres' \n",
    "pw = r'82328' \n",
    "port = r'5432' \n",
    "schema = r'Rawdata' "
   ]
  },
  {
   "cell_type": "code",
   "execution_count": 10,
   "metadata": {},
   "outputs": [],
   "source": [
    "#Creating a connection\n",
    "db_conn = create_engine(\"postgresql://{}:{}@{}:{}/{}\".format(user, pw, host, port, db))"
   ]
  },
  {
   "cell_type": "code",
   "execution_count": 11,
   "metadata": {},
   "outputs": [
    {
     "data": {
      "text/html": [
       "<div>\n",
       "<style scoped>\n",
       "    .dataframe tbody tr th:only-of-type {\n",
       "        vertical-align: middle;\n",
       "    }\n",
       "\n",
       "    .dataframe tbody tr th {\n",
       "        vertical-align: top;\n",
       "    }\n",
       "\n",
       "    .dataframe thead th {\n",
       "        text-align: right;\n",
       "    }\n",
       "</style>\n",
       "<table border=\"1\" class=\"dataframe\">\n",
       "  <thead>\n",
       "    <tr style=\"text-align: right;\">\n",
       "      <th></th>\n",
       "      <th>table_name</th>\n",
       "    </tr>\n",
       "  </thead>\n",
       "  <tbody>\n",
       "  </tbody>\n",
       "</table>\n",
       "</div>"
      ],
      "text/plain": [
       "Empty DataFrame\n",
       "Columns: [table_name]\n",
       "Index: []"
      ]
     },
     "execution_count": 11,
     "metadata": {},
     "output_type": "execute_result"
    }
   ],
   "source": [
    "#Listing the tables\n",
    "sql=\"select tables.table_name from information_schema.tables where (table_schema ='\"+schema+\"')order by 1;\"\n",
    "tbl_df = pd.read_sql(sql, db_conn, index_col=None)\n",
    "tbl_df"
   ]
  },
  {
   "cell_type": "code",
   "execution_count": 12,
   "metadata": {},
   "outputs": [],
   "source": [
    "#Table name\n",
    "table_name= r'listings'"
   ]
  },
  {
   "cell_type": "code",
   "execution_count": 13,
   "metadata": {},
   "outputs": [
    {
     "data": {
      "text/plain": [
       "6297"
      ]
     },
     "execution_count": 13,
     "metadata": {},
     "output_type": "execute_result"
    }
   ],
   "source": [
    "schema = r'RawData' \n",
    "\n",
    "df.to_sql(table_name, con=db_conn, if_exists='replace', index=False, schema=schema, chunksize=1000, method='multi')"
   ]
  },
  {
   "cell_type": "markdown",
   "metadata": {},
   "source": [
    "Dataframe saved in a table in the \"raw data\" schema."
   ]
  },
  {
   "cell_type": "markdown",
   "metadata": {},
   "source": [
    "<img align=\"left\" style=\"padding-right:15px;\" src=\"rawdata-screenshot.png\" width=350><br>"
   ]
  }
 ],
 "metadata": {
  "kernelspec": {
   "display_name": "base",
   "language": "python",
   "name": "python3"
  },
  "language_info": {
   "codemirror_mode": {
    "name": "ipython",
    "version": 3
   },
   "file_extension": ".py",
   "mimetype": "text/x-python",
   "name": "python",
   "nbconvert_exporter": "python",
   "pygments_lexer": "ipython3",
   "version": "3.12.7"
  }
 },
 "nbformat": 4,
 "nbformat_minor": 2
}
